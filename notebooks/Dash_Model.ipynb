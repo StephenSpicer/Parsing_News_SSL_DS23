{
 "metadata": {
  "language_info": {
   "codemirror_mode": {
    "name": "ipython",
    "version": 3
   },
   "file_extension": ".py",
   "mimetype": "text/x-python",
   "name": "python",
   "nbconvert_exporter": "python",
   "pygments_lexer": "ipython3",
   "version": "3.9.0-final"
  },
  "orig_nbformat": 2,
  "kernelspec": {
   "name": "python3",
   "display_name": "Python 3",
   "language": "python"
  }
 },
 "nbformat": 4,
 "nbformat_minor": 2,
 "cells": [
  {
   "cell_type": "code",
   "execution_count": 4,
   "metadata": {},
   "outputs": [],
   "source": [
    "# this is our preamble cell :\n",
    "import plotly.graph_objects as go\n",
    "import pandas as pd\n",
    "from pandas import DataFrame\n",
    "import numpy as np\n",
    "import matplotlib \n",
    "import matplotlib.pyplot as plt\n",
    "\n",
    "import category_encoders as ce\n",
    "from sklearn.model_selection import train_test_split\n",
    "\n",
    "\n",
    "from sklearn.pipeline import Pipeline\n",
    "from sklearn.pipeline import make_pipeline\n",
    "from category_encoders import OrdinalEncoder\n",
    "\n",
    "from sklearn import cluster\n",
    "from sklearn.feature_extraction.text import CountVectorizer\n",
    "from sklearn.feature_extraction.text import TfidfVectorizer\n",
    "from sklearn.decomposition import TruncatedSVD\n",
    "from sklearn.ensemble import GradientBoostingClassifier\n",
    "\n",
    "from sklearn.metrics import accuracy_score\n",
    "from sklearn.model_selection import cross_val_score\n",
    "from sklearn.tree import plot_tree\n",
    "\n",
    "\n",
    "from joblib import dump\n",
    "\n",
    "# from shap import TreeExplainer, initjs, force_plot\n",
    "from pdpbox.pdp import pdp_interact, pdp_interact_plot"
   ]
  },
  {
   "cell_type": "code",
   "execution_count": 5,
   "metadata": {},
   "outputs": [
    {
     "output_type": "stream",
     "name": "stdout",
     "text": [
      "Real data shape:  (21417, 5)\n",
      "Fake data shape:  (23436, 5)\n"
     ]
    }
   ],
   "source": [
    "# importing and minor cleaning first, parsing dates. \n",
    "\n",
    "dfreal = pd.read_csv('True.csv',\n",
    "                    parse_dates = ['date'])\n",
    "#                    index_col = 'date')\n",
    "dfreal['Fake'] = 0\n",
    "print('Real data shape: ', dfreal.shape)\n",
    "\n",
    "dffake = pd.read_csv('Fake.csv',\n",
    "                    parse_dates = ['date'])\n",
    "#                    index_col = 'date')\n",
    "\n",
    "dffake['Fake'] = 1\n",
    "\n",
    "# I have added the boolean column for Fake/Real to each. \n",
    "\n",
    "# This next bit will clean up the messy date columns from the fake csv. \n",
    "\n",
    "searchfor = ['http', '-', 'MSNBC']\n",
    "dffake = dffake[~dffake['date'].str.contains('|'.join(searchfor))]\n",
    "\n",
    "print('Fake data shape: ', dffake.shape)"
   ]
  },
  {
   "cell_type": "code",
   "execution_count": 6,
   "metadata": {},
   "outputs": [
    {
     "output_type": "stream",
     "name": "stdout",
     "text": [
      "Index(['text', 'Fake'], dtype='object')\n"
     ]
    }
   ],
   "source": [
    "# Now, I want to trim them to be the same size, so that we have our baseline right at 0.5 -the same as flipping a coin. \n",
    "\n",
    "dfreal_trimmed = dfreal[-21_400 :]\n",
    "\n",
    "\n",
    "dffake_trimmed = dffake[-21_400 :]\n",
    "\n",
    "\n",
    "# and now combine them into one dataframe:\n",
    "df_joined = dfreal_trimmed.append(dffake_trimmed, ignore_index=True)\n",
    "\n",
    "df_joined['date'] = pd.to_datetime(df_joined['date'])\n",
    "df_joined.drop(['subject'], axis=1, inplace=True)\n",
    "df_joined.drop(['date'], axis=1, inplace=True)\n",
    "\n",
    "df_joined = df_joined.drop(['title'], axis=1)\n",
    "\n",
    "print(df_joined.columns)"
   ]
  },
  {
   "cell_type": "code",
   "execution_count": 7,
   "metadata": {},
   "outputs": [
    {
     "output_type": "stream",
     "name": "stdout",
     "text": [
      "(27392,)\n(27392,)\n(6848,)\n(6848,)\n(8560,)\n(8560,)\n"
     ]
    }
   ],
   "source": [
    "target_body = df_joined['Fake']\n",
    "Xb = df_joined['text']\n",
    "yb = target_body\n",
    "\n",
    "\n",
    "Xb_train, Xb_test, yb_train, yb_test = train_test_split(Xb, yb, test_size=0.2, random_state=42)\n",
    "\n",
    "# doing 20/80 split and 42. and then the same to split val set from train set.\n",
    "\n",
    "Xb_train, Xb_val, yb_train, yb_val = train_test_split(Xb_train, yb_train, test_size=0.2, random_state=42) \n",
    "\n",
    "print(Xb_train.shape)\n",
    "print(yb_train.shape)\n",
    "print(Xb_val.shape)\n",
    "print(yb_val.shape)\n",
    "print(Xb_test.shape)\n",
    "print(yb_test.shape)"
   ]
  },
  {
   "cell_type": "code",
   "execution_count": 58,
   "metadata": {},
   "outputs": [
    {
     "output_type": "stream",
     "name": "stdout",
     "text": [
      "train:  0.9951445677570093\n",
      "val:  0.9919684579439252\n",
      "test:  0.994392523364486\n"
     ]
    }
   ],
   "source": [
    "model_dash_TFIDF_5_50 = Pipeline([\n",
    "    ('vectorizer',TfidfVectorizer(stop_words = 'english', strip_accents ='ascii', max_features = 100, min_df= 0.25 , max_df= 0.75)),\n",
    "    #('dim_red', TruncatedSVD(n_components=19, random_state=42)),\n",
    "    ('encoder', OrdinalEncoder()),\n",
    "    ('predictor', GradientBoostingClassifier(random_state=42))\n",
    "])\n",
    "\n",
    "model_dash_TFIDF_5_50.fit(Xb_train, yb_train);\n",
    "# print('train: ', model_dash_TFIDF_5_50.score(Xb_train, yb_train))\n",
    "# print('val: ', model_dash_TFIDF_5_50.score(Xb_val, yb_val))\n",
    "# print('test: ',model_dash_TFIDF_5_50.score(Xb_test, yb_test))\n"
   ]
  },
  {
   "cell_type": "code",
   "execution_count": 74,
   "metadata": {},
   "outputs": [
    {
     "output_type": "execute_result",
     "data": {
      "text/plain": [
       "array([1, 1, 0, 0, 1, 0, 0, 0, 1, 0, 1, 0, 0, 0, 1, 0, 0, 0, 0, 1, 1, 1,\n",
       "       1, 1, 0, 0, 1, 1, 0, 1], dtype=int64)"
      ]
     },
     "metadata": {},
     "execution_count": 74
    }
   ],
   "source": [
    "model_dash_TFIDF_5_50.predict(Xb_train[:30])"
   ]
  },
  {
   "cell_type": "code",
   "execution_count": 9,
   "metadata": {},
   "outputs": [],
   "source": [
    "#joblib dump\n",
    "saved_model = dump(model_dash_TFIDF_5_50, 'saved_model.joblib')"
   ]
  },
  {
   "cell_type": "code",
   "execution_count": 79,
   "metadata": {},
   "outputs": [
    {
     "output_type": "execute_result",
     "data": {
      "text/plain": [
       "array([1], dtype=int64)"
      ]
     },
     "metadata": {},
     "execution_count": 79
    }
   ],
   "source": [
    "d = {'text' : ['He s not wrong.Demonstrating that he is the only adult in a campaign season full of Republicans, Democratic presidential candidate Bernie Sanders ripped the remaining members of the GOP field for acting like children instead of adults who want to be the leader of the free world. What we are seeing in the Republican presidential process is like a sixth grade food fight that you see in a cafeteria,  Sanders said during a stop in Michigan. I think that is not what the American people want. The American people know we have some serious problems and they want to hear some serious solutions to those problems, not vicious personal attacks,  he continued.Sanders went on to shift his focus from the Republican toddlers to the real problems Americans face such as income inequality, corporate greed, and mass imprisonment.Later on, the Vermont Senator blasted Donald Trump, Ted Cruz, and Marco Rubio again for acting like little kids instead of responsible adults. They really do sound like sixth-grade food fights, where amazingly enough adults in their 50s and 60s are throwing food at each other and cursing at each other and making fun of each other and insulting each other,  Sanders said.Here s the video:And Bernie s assessment of the GOP is absolutely spot on. During the last Republican debate, Trump, Rubio, and Cruz put on a circus as they insulted each other. Trump even went so far as to talk about how big his penis is.It s been even more embarrassing on the campaign trail as Rubio has suggested that Trump has a small penis because he has small hands and even suggested that Trump wet himself during the debate. Trump has hit Rubio by mocking his need to quench his thirst while delivering the Republican response to the State of the Union Address a few years ago.It s far from the civility one expects from people who are trying to convince American voters that they are the right person to lead the country and solve problems. But the Republicans are too busy trading insults and talking trash instead of focusing on issues that Americans truly care about.Meanwhile, Democratic candidates Bernie Sanders and Hillary Clinton are taking this election seriously, proving that either one of them would be a good President of the United States who will be respected by the world instead of being laughed at and treated like a joke.Featured image via Bernie Sanders Campaign Website','21st Century Wire says Those on the  left  need to start taking responsibility for their actions.Kathy Griffin, an alleged comedian, has received immense backlash for a stunt she pulled earlier in the week. Griffin apparently thought it would be a great idea to pose with a blood soaked effigy of President Donal Trump s decapitated head.Now, after making the incendiary, and some may say threatening, photograph, she is attempting to turn the narrative around claiming to be a victim of  bullying .Similarly, Hillary Clinton is blaming a conspiracy of 1000 Russian agents working against her, fake news, Twitter bots, and misogyny for her election loss. She makes no mention of the fact that it was clear the Democratic voters wanted Bernie Sanders, not her, and that simply not being Donald Trump was not a good enough reason to vote for her.The massive problem with this scapegoating and more is discussed in the following video report: READ MORE TRUMP NEWS AT: 21st Century Wire Trump FilesSUPPORT 21WIRE  SUBSCRIBE & BECOME A MEMBER @21WIRE.TV','BEIJING (Reuters) - Beijing s city authorities have taken down from their website a policy document put up just a few days ago that looked to help improve the city s notorious air quality by banning construction during winter months. It is unclear if the move means the prohibition is no longer in place, with an official at the Beijing Municipal Commission of Housing and Urban-Rural Development who gave his name as Yu saying the document had been pulled from the website due to misunderstandings over the rules in media reports. He declined to give further details. The statement, dated Sept. 15, was posted on the commission s website last Friday, but it was no longer available on Wednesday. It was not clear when it was withdrawn. Under the plan, all construction of road and water projects, as well as demolition of housing, would be banned from Nov. 15 to March 15 within the city s six major districts and surrounding suburbs. As part of dust control measures, the government often instructs construction sites in northern cities to close during bouts of heavy smog in the winter when households crank up heating, drawing on the power grid which is mainly fueled by coal. Provincial authorities are rushing to enforce the central government s ambitious targets for preventing toxic air during the upcoming colder months as it has ramped up its years-long war on smog. The possible pulling of the construction rules underscores the complexity of implementing some of the steps. Among the most stringent measures are orders for heavy industry such as steel mills to curb output by as much as 50 percent during the colder months. Recent checks of factories across the north have forced many to close or curb operations, roiling supplies of some critical raw materials like coke and coal and sending prices of base metals soaring.']}\n",
    "\n",
    "pd.DataFrame(data=d)\n",
    "\n",
    "model_dash_TFIDF_5_50.predict(pd.DataFrame(data=d))\n"
   ]
  },
  {
   "cell_type": "code",
   "execution_count": 81,
   "metadata": {},
   "outputs": [
    {
     "output_type": "display_data",
     "data": {
      "text/plain": "                                                text\n0  He s not wrong.Demonstrating that he is the on...\n1  21st Century Wire says Those on the  left  nee...\n2  BEIJING (Reuters) - Beijing s city authorities...",
      "text/html": "<div>\n<style scoped>\n    .dataframe tbody tr th:only-of-type {\n        vertical-align: middle;\n    }\n\n    .dataframe tbody tr th {\n        vertical-align: top;\n    }\n\n    .dataframe thead th {\n        text-align: right;\n    }\n</style>\n<table border=\"1\" class=\"dataframe\">\n  <thead>\n    <tr style=\"text-align: right;\">\n      <th></th>\n      <th>text</th>\n    </tr>\n  </thead>\n  <tbody>\n    <tr>\n      <th>0</th>\n      <td>He s not wrong.Demonstrating that he is the on...</td>\n    </tr>\n    <tr>\n      <th>1</th>\n      <td>21st Century Wire says Those on the  left  nee...</td>\n    </tr>\n    <tr>\n      <th>2</th>\n      <td>BEIJING (Reuters) - Beijing s city authorities...</td>\n    </tr>\n  </tbody>\n</table>\n</div>"
     },
     "metadata": {}
    }
   ],
   "source": [
    "dtest = pd.DataFrame(data=d)\n",
    "display(dtest)"
   ]
  },
  {
   "cell_type": "code",
   "execution_count": 84,
   "metadata": {},
   "outputs": [
    {
     "output_type": "execute_result",
     "data": {
      "text/plain": [
       "array([1, 1, 0], dtype=int64)"
      ]
     },
     "metadata": {},
     "execution_count": 84
    }
   ],
   "source": [
    "model_dash_TFIDF_5_50.predict(dtest['text'])"
   ]
  },
  {
   "cell_type": "code",
   "execution_count": 37,
   "metadata": {},
   "outputs": [],
   "source": [
    "pd.set_option('display.max_rows', 500)\n",
    "pd.set_option('display.max_columns', 500)\n",
    "pd.set_option('display.width', 1000)"
   ]
  },
  {
   "cell_type": "code",
   "execution_count": 73,
   "metadata": {},
   "outputs": [
    {
     "output_type": "execute_result",
     "data": {
      "text/plain": [
       "27029    He s not wrong.Demonstrating that he is the on...\n",
       "41417    21st Century Wire says Those on the  left  nee...\n",
       "19390    BEIJING (Reuters) - Beijing s city authorities...\n",
       "20653    (Reuters) - Airlines were racing against the c...\n",
       "21793    Joni Ernst may portray herself as tough in her...\n",
       "Name: text, dtype: object"
      ]
     },
     "metadata": {},
     "execution_count": 73
    }
   ],
   "source": [
    "Xb_train.head()"
   ]
  },
  {
   "cell_type": "code",
   "execution_count": 77,
   "metadata": {},
   "outputs": [
    {
     "output_type": "execute_result",
     "data": {
      "text/plain": [
       "'BEIJING (Reuters) - Beijing s city authorities have taken down from their website a policy document put up just a few days ago that looked to help improve the city s notorious air quality by banning construction during winter months. It is unclear if the move means the prohibition is no longer in place, with an official at the Beijing Municipal Commission of Housing and Urban-Rural Development who gave his name as Yu saying the document had been pulled from the website due to misunderstandings over the rules in media reports. He declined to give further details. The statement, dated Sept. 15, was posted on the commission s website last Friday, but it was no longer available on Wednesday. It was not clear when it was withdrawn. Under the plan, all construction of road and water projects, as well as demolition of housing, would be banned from Nov. 15 to March 15 within the city s six major districts and surrounding suburbs. As part of dust control measures, the government often instructs construction sites in northern cities to close during bouts of heavy smog in the winter when households crank up heating, drawing on the power grid which is mainly fueled by coal. Provincial authorities are rushing to enforce the central government s ambitious targets for preventing toxic air during the upcoming colder months as it has ramped up its years-long war on smog. The possible pulling of the construction rules underscores the complexity of implementing some of the steps. Among the most stringent measures are orders for heavy industry such as steel mills to curb output by as much as 50 percent during the colder months. Recent checks of factories across the north have forced many to close or curb operations, roiling supplies of some critical raw materials like coke and coal and sending prices of base metals soaring.         '"
      ]
     },
     "metadata": {},
     "execution_count": 77
    }
   ],
   "source": [
    "Xb_train.iloc[2]"
   ]
  },
  {
   "cell_type": "code",
   "execution_count": 51,
   "metadata": {},
   "outputs": [
    {
     "output_type": "execute_result",
     "data": {
      "text/plain": [
       "                                                    text  Fake\n",
       "0      The following statements were posted to the ve...     0\n",
       "1      (Reuters) - A U.S. appeals court in Washington...     0\n",
       "2      (Reuters) - A gift-wrapped package addressed t...     0\n",
       "3      WASHINGTON (Reuters) - A federal judge in Seat...     0\n",
       "4      NEW YORK (Reuters) - The U.S. Justice Departme...     0\n",
       "...                                                  ...   ...\n",
       "42794  Robert Fantina CounterpunchAlthough the United...     1\n",
       "42795  21st Century Wire says As 21WIRE reported earl...     1\n",
       "42796  21st Century Wire says It s a familiar theme. ...     1\n",
       "42797  Patrick Henningsen  21st Century WireRemember ...     1\n",
       "42798  21st Century Wire says Al Jazeera America will...     1\n",
       "\n",
       "[42799 rows x 2 columns]"
      ],
      "text/html": "<div>\n<style scoped>\n    .dataframe tbody tr th:only-of-type {\n        vertical-align: middle;\n    }\n\n    .dataframe tbody tr th {\n        vertical-align: top;\n    }\n\n    .dataframe thead th {\n        text-align: right;\n    }\n</style>\n<table border=\"1\" class=\"dataframe\">\n  <thead>\n    <tr style=\"text-align: right;\">\n      <th></th>\n      <th>text</th>\n      <th>Fake</th>\n    </tr>\n  </thead>\n  <tbody>\n    <tr>\n      <th>0</th>\n      <td>The following statements were posted to the ve...</td>\n      <td>0</td>\n    </tr>\n    <tr>\n      <th>1</th>\n      <td>(Reuters) - A U.S. appeals court in Washington...</td>\n      <td>0</td>\n    </tr>\n    <tr>\n      <th>2</th>\n      <td>(Reuters) - A gift-wrapped package addressed t...</td>\n      <td>0</td>\n    </tr>\n    <tr>\n      <th>3</th>\n      <td>WASHINGTON (Reuters) - A federal judge in Seat...</td>\n      <td>0</td>\n    </tr>\n    <tr>\n      <th>4</th>\n      <td>NEW YORK (Reuters) - The U.S. Justice Departme...</td>\n      <td>0</td>\n    </tr>\n    <tr>\n      <th>...</th>\n      <td>...</td>\n      <td>...</td>\n    </tr>\n    <tr>\n      <th>42794</th>\n      <td>Robert Fantina CounterpunchAlthough the United...</td>\n      <td>1</td>\n    </tr>\n    <tr>\n      <th>42795</th>\n      <td>21st Century Wire says As 21WIRE reported earl...</td>\n      <td>1</td>\n    </tr>\n    <tr>\n      <th>42796</th>\n      <td>21st Century Wire says It s a familiar theme. ...</td>\n      <td>1</td>\n    </tr>\n    <tr>\n      <th>42797</th>\n      <td>Patrick Henningsen  21st Century WireRemember ...</td>\n      <td>1</td>\n    </tr>\n    <tr>\n      <th>42798</th>\n      <td>21st Century Wire says Al Jazeera America will...</td>\n      <td>1</td>\n    </tr>\n  </tbody>\n</table>\n<p>42799 rows × 2 columns</p>\n</div>"
     },
     "metadata": {},
     "execution_count": 51
    }
   ],
   "source": [
    "df_joined.head(1)\n",
    "df_joined.head(-1)"
   ]
  }
 ]
}